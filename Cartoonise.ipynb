{
 "cells": [
  {
   "cell_type": "code",
   "execution_count": null,
   "metadata": {},
   "outputs": [],
   "source": [
    "#We need following libraries to run code ->\n",
    "\n",
    "#     1. OpenCV      pip install opencv-python\n",
    "#     2. Numpy       pip install numpy\n",
    "#     3. Tkinter     pip install tkinter"
   ]
  },
  {
   "cell_type": "markdown",
   "metadata": {},
   "source": [
    "## Importing Libraries"
   ]
  },
  {
   "cell_type": "code",
   "execution_count": null,
   "metadata": {},
   "outputs": [],
   "source": [
    "#importing cv2 library for computer vision operation\n",
    "import cv2\n",
    "\n",
    "#importing numpy for mathematical computation\n",
    "import numpy as np\n",
    "\n",
    "#importing Tkinter for reading image from filesystem\n",
    "from tkinter.filedialog import *"
   ]
  },
  {
   "cell_type": "code",
   "execution_count": null,
   "metadata": {},
   "outputs": [],
   "source": [
    "#reading file from computer\n",
    "photo = askopenfilename()\n",
    "img = cv2.imread(photo)\n",
    "\n",
    "#Applying grey filter\n",
    "grey = cv2.cvtColor(img, cv2.COLOR_BGR2GRAY)\n",
    "\n",
    "#Applying median blur filter so that it look more like cartoon\n",
    "grey = cv2.medianBlur(grey, 5)\n",
    "\n",
    "#Storing edges\n",
    "edges = cv2.adaptiveThreshold(grey, 255, cv2.ADAPTIVE_THRESH_MEAN_C, cv2.THRESH_BINARY, 9, 9)\n",
    "\n",
    "#cartoonize\n",
    "color = cv2.bilateralFilter(img, 9, 250, 250)\n",
    "\n",
    "#Performing Bitwise and at edges\n",
    "cartoon = cv2.bitwise_and(color, color, mask = edges)\n",
    "\n",
    "#To show Original Image\n",
    "cv2.imshow(\"Image\", img)\n",
    "\n",
    "#To show Cartoon Image\n",
    "cv2.imshow(\"Cartoon\", cartoon)\n",
    "\n",
    "# Saving geerated file to set location\n",
    "# We can see current set location using pwd command\n",
    "cv2.imwrite(\"cartoon.jpg\", cartoon)\n",
    "\n",
    "# Destroying current window so that our programe don't get stuck\n",
    "cv2.waitKey(0)\n",
    "cv2.destroyAllWindows()"
   ]
  },
  {
   "cell_type": "code",
   "execution_count": null,
   "metadata": {},
   "outputs": [],
   "source": []
  }
 ],
 "metadata": {
  "kernelspec": {
   "display_name": "Python 3",
   "language": "python",
   "name": "python3"
  },
  "language_info": {
   "codemirror_mode": {
    "name": "ipython",
    "version": 3
   },
   "file_extension": ".py",
   "mimetype": "text/x-python",
   "name": "python",
   "nbconvert_exporter": "python",
   "pygments_lexer": "ipython3",
   "version": "3.7.6"
  }
 },
 "nbformat": 4,
 "nbformat_minor": 4
}
